{
 "cells": [
  {
   "cell_type": "code",
   "execution_count": 7,
   "id": "3966d0c7",
   "metadata": {},
   "outputs": [],
   "source": [
    "import pandas as pd \n",
    "from datetime import datetime \n",
    "\n",
    "import matplotlib.pyplot as plt\n",
    "import seaborn as sns\n",
    "\n",
    "from sklearn.linear_model import LogisticRegression\n",
    "from sklearn.model_selection import train_test_split, GridSearchCV, cross_val_score, RepeatedStratifiedKFold, StratifiedKFold\n",
    "from sklearn.metrics import accuracy_score, confusion_matrix,roc_curve, roc_auc_score, precision_score, recall_score, precision_recall_curve\n",
    "from sklearn.metrics import f1_score\n",
    "import numpy as np \n",
    "from scipy import stats\n",
    "from sklearn.model_selection import train_test_split\n",
    "from sklearn.preprocessing import LabelEncoder"
   ]
  },
  {
   "cell_type": "code",
   "execution_count": 13,
   "id": "8b476d12",
   "metadata": {},
   "outputs": [],
   "source": [
    "df = pd.read_csv('leadscoring_v1.csv')\n",
    "df.columns = [x.lower() for x in df.columns]"
   ]
  },
  {
   "cell_type": "code",
   "execution_count": 14,
   "id": "a106278f",
   "metadata": {},
   "outputs": [
    {
     "data": {
      "text/html": [
       "<div>\n",
       "<style scoped>\n",
       "    .dataframe tbody tr th:only-of-type {\n",
       "        vertical-align: middle;\n",
       "    }\n",
       "\n",
       "    .dataframe tbody tr th {\n",
       "        vertical-align: top;\n",
       "    }\n",
       "\n",
       "    .dataframe thead th {\n",
       "        text-align: right;\n",
       "    }\n",
       "</style>\n",
       "<table border=\"1\" class=\"dataframe\">\n",
       "  <thead>\n",
       "    <tr style=\"text-align: right;\">\n",
       "      <th></th>\n",
       "      <th>company_id</th>\n",
       "      <th>company_created_date</th>\n",
       "      <th>is_converted</th>\n",
       "      <th>industry_category</th>\n",
       "      <th>how_did_you_hear_about_us</th>\n",
       "      <th>marketing_channel</th>\n",
       "      <th>mkt_medium</th>\n",
       "      <th>mkt_source</th>\n",
       "      <th>total_web_duration</th>\n",
       "      <th>reg_device_category</th>\n",
       "      <th>reg_session_duration</th>\n",
       "      <th>is_overview_call_scheduled</th>\n",
       "    </tr>\n",
       "  </thead>\n",
       "  <tbody>\n",
       "    <tr>\n",
       "      <th>0</th>\n",
       "      <td>6362b10337698f50b8979d19</td>\n",
       "      <td>2022-11-02</td>\n",
       "      <td>False</td>\n",
       "      <td>other services (except public administration)</td>\n",
       "      <td>tv</td>\n",
       "      <td>paidsocial</td>\n",
       "      <td>paidsocial</td>\n",
       "      <td>facebook</td>\n",
       "      <td>3</td>\n",
       "      <td>mobile</td>\n",
       "      <td>3.0</td>\n",
       "      <td>False</td>\n",
       "    </tr>\n",
       "    <tr>\n",
       "      <th>1</th>\n",
       "      <td>63b8b8abea1fbcffe4e7bee9</td>\n",
       "      <td>2023-01-07</td>\n",
       "      <td>True</td>\n",
       "      <td>manufacturing</td>\n",
       "      <td>other</td>\n",
       "      <td>untracked</td>\n",
       "      <td>unknown</td>\n",
       "      <td>unknown</td>\n",
       "      <td>0</td>\n",
       "      <td>unknown</td>\n",
       "      <td>NaN</td>\n",
       "      <td>True</td>\n",
       "    </tr>\n",
       "    <tr>\n",
       "      <th>2</th>\n",
       "      <td>63af154e8b344184cad73641</td>\n",
       "      <td>2022-12-30</td>\n",
       "      <td>False</td>\n",
       "      <td>wholesale trade</td>\n",
       "      <td>search-engine</td>\n",
       "      <td>paidsocial</td>\n",
       "      <td>paidsocial</td>\n",
       "      <td>facebook</td>\n",
       "      <td>3</td>\n",
       "      <td>windows</td>\n",
       "      <td>3.0</td>\n",
       "      <td>True</td>\n",
       "    </tr>\n",
       "    <tr>\n",
       "      <th>3</th>\n",
       "      <td>63985e437ee58a45cdaab08b</td>\n",
       "      <td>2022-12-13</td>\n",
       "      <td>True</td>\n",
       "      <td>other services (except public administration)</td>\n",
       "      <td>social-media</td>\n",
       "      <td>paidsocial</td>\n",
       "      <td>paidsocial</td>\n",
       "      <td>facebook</td>\n",
       "      <td>3</td>\n",
       "      <td>mobile</td>\n",
       "      <td>3.0</td>\n",
       "      <td>True</td>\n",
       "    </tr>\n",
       "    <tr>\n",
       "      <th>4</th>\n",
       "      <td>638d5ce752aa32a641b15c00</td>\n",
       "      <td>2022-12-05</td>\n",
       "      <td>False</td>\n",
       "      <td>other services (except public administration)</td>\n",
       "      <td>streaming-audio</td>\n",
       "      <td>retired_channels</td>\n",
       "      <td>sem-nb</td>\n",
       "      <td>google</td>\n",
       "      <td>2</td>\n",
       "      <td>mobile</td>\n",
       "      <td>2.0</td>\n",
       "      <td>False</td>\n",
       "    </tr>\n",
       "  </tbody>\n",
       "</table>\n",
       "</div>"
      ],
      "text/plain": [
       "                 company_id company_created_date  is_converted  \\\n",
       "0  6362b10337698f50b8979d19           2022-11-02         False   \n",
       "1  63b8b8abea1fbcffe4e7bee9           2023-01-07          True   \n",
       "2  63af154e8b344184cad73641           2022-12-30         False   \n",
       "3  63985e437ee58a45cdaab08b           2022-12-13          True   \n",
       "4  638d5ce752aa32a641b15c00           2022-12-05         False   \n",
       "\n",
       "                               industry_category how_did_you_hear_about_us  \\\n",
       "0  other services (except public administration)                        tv   \n",
       "1                                  manufacturing                     other   \n",
       "2                                wholesale trade             search-engine   \n",
       "3  other services (except public administration)              social-media   \n",
       "4  other services (except public administration)           streaming-audio   \n",
       "\n",
       "  marketing_channel  mkt_medium mkt_source  total_web_duration  \\\n",
       "0        paidsocial  paidsocial   facebook                   3   \n",
       "1         untracked     unknown    unknown                   0   \n",
       "2        paidsocial  paidsocial   facebook                   3   \n",
       "3        paidsocial  paidsocial   facebook                   3   \n",
       "4  retired_channels      sem-nb     google                   2   \n",
       "\n",
       "  reg_device_category  reg_session_duration  is_overview_call_scheduled  \n",
       "0              mobile                   3.0                       False  \n",
       "1             unknown                   NaN                        True  \n",
       "2             windows                   3.0                        True  \n",
       "3              mobile                   3.0                        True  \n",
       "4              mobile                   2.0                       False  "
      ]
     },
     "execution_count": 14,
     "metadata": {},
     "output_type": "execute_result"
    }
   ],
   "source": [
    "df.head()"
   ]
  },
  {
   "cell_type": "code",
   "execution_count": 15,
   "id": "8de956b8",
   "metadata": {},
   "outputs": [
    {
     "data": {
      "text/plain": [
       "False    85.058467\n",
       "True     14.941533\n",
       "Name: is_converted, dtype: float64"
      ]
     },
     "execution_count": 15,
     "metadata": {},
     "output_type": "execute_result"
    }
   ],
   "source": [
    "(df['is_converted'].value_counts(normalize=True) * 100)"
   ]
  },
  {
   "cell_type": "code",
   "execution_count": null,
   "id": "5732c2b7",
   "metadata": {},
   "outputs": [],
   "source": []
  },
  {
   "cell_type": "code",
   "execution_count": null,
   "id": "d63e4c74",
   "metadata": {},
   "outputs": [],
   "source": []
  },
  {
   "cell_type": "code",
   "execution_count": null,
   "id": "d42a48b0",
   "metadata": {},
   "outputs": [],
   "source": []
  },
  {
   "cell_type": "code",
   "execution_count": null,
   "id": "4af2b1e9",
   "metadata": {},
   "outputs": [],
   "source": []
  },
  {
   "cell_type": "code",
   "execution_count": null,
   "id": "2382ae24",
   "metadata": {},
   "outputs": [],
   "source": []
  },
  {
   "cell_type": "code",
   "execution_count": null,
   "id": "ccf9d4b1",
   "metadata": {},
   "outputs": [],
   "source": []
  },
  {
   "cell_type": "code",
   "execution_count": null,
   "id": "e8f466e9",
   "metadata": {},
   "outputs": [],
   "source": []
  },
  {
   "cell_type": "code",
   "execution_count": null,
   "id": "ed7c4781",
   "metadata": {},
   "outputs": [],
   "source": []
  },
  {
   "cell_type": "code",
   "execution_count": null,
   "id": "62e3ba42",
   "metadata": {},
   "outputs": [],
   "source": []
  },
  {
   "cell_type": "code",
   "execution_count": null,
   "id": "16471923",
   "metadata": {},
   "outputs": [],
   "source": []
  },
  {
   "cell_type": "code",
   "execution_count": null,
   "id": "68252cda",
   "metadata": {},
   "outputs": [],
   "source": []
  },
  {
   "cell_type": "code",
   "execution_count": null,
   "id": "8449f1b3",
   "metadata": {},
   "outputs": [],
   "source": []
  }
 ],
 "metadata": {
  "kernelspec": {
   "display_name": "Python 3 (ipykernel)",
   "language": "python",
   "name": "python3"
  },
  "language_info": {
   "codemirror_mode": {
    "name": "ipython",
    "version": 3
   },
   "file_extension": ".py",
   "mimetype": "text/x-python",
   "name": "python",
   "nbconvert_exporter": "python",
   "pygments_lexer": "ipython3",
   "version": "3.9.13"
  }
 },
 "nbformat": 4,
 "nbformat_minor": 5
}
